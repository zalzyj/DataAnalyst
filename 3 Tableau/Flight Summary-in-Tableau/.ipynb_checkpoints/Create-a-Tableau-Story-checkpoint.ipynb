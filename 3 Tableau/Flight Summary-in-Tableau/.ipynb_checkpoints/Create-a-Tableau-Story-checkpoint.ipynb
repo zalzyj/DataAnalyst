{
 "cells": [
  {
   "cell_type": "markdown",
   "metadata": {},
   "source": [
    "## Summary"
   ]
  },
  {
   "cell_type": "markdown",
   "metadata": {},
   "source": [
    "Airports in the US have been registering consistent growth yearly with the exception of year 2001 due to 9/11 incident and the late 2000s recession. The visualzations below are to provide an insight of the aviation industry in the US and some more detailed segmentated views for the west coast and east coast."
   ]
  },
  {
   "cell_type": "markdown",
   "metadata": {},
   "source": [
    "## Design"
   ]
  },
  {
   "cell_type": "markdown",
   "metadata": {},
   "source": [
    "### Dataset\n",
    "\n",
    "The follwing steps were taken in order to create a comprehensive csv file.\n",
    "1. Multiple datasets were downloaded from the website of U.S. Burueat of Transportation Statistics from year 2000 to 2016. \n",
    "\n",
    "2. Only scheduled flights related to passengers are kept while those of freight and unschedule flights are removed.\n",
    "\n",
    "3. Rows with 0 total passengers are deleted as it doesn't add up to anything in our final dataset.\n",
    "\n",
    "4. Each row of data is duplicated except that its origin and destination are swapped. It is done as we also need to consider the number for destination city without changing the structure of the data.\n",
    "\n",
    "5. The data is then pivoted in Excel to calculate annual number of passenger by airlines by city pairs.\n",
    "\n",
    "6. Once the data is loaded into Tableau, airport pair and city pair are created by combining the airport code and city name.\n",
    "\n",
    "7. Another calculated field is also created to filter out city pairs with less than 500 passengers annually when calculating the connectivity of an airport (number of airport with direct flight) so there were lots of one-off flights which will skewed the data, such as Singapore-Raleigh which is never flown by any commercial airlines."
   ]
  },
  {
   "cell_type": "markdown",
   "metadata": {},
   "source": [
    "### Visualization\n",
    "\n",
    "Trend charts (line) are chosen as it allows data over the period from 2000 to 2016 to be shown.\n",
    "Instead of listing the airports or airlines in tables, trend charts allows the values of the data to be visualized easily and ranking of the data to be observed readily.\n",
    "\n",
    "For example, in the \"Foreign Airports (Annual Int'l Pax) - West Coast\" chart, it can be seen that Narita Airport (NRT) is losing its lead in terms of passenger movement and is slated to be replaced by Vancouver (YVR). This trend can't be estimated if ordinary table were used to represent the data.\n",
    "\n",
    "The storyline to be carried over 8 slides of trend charts.\n",
    "1. US Airport (Annual Pax) and US Airlines (Annual Pax)\n",
    "2. US Airport (Annual Domestic Pax) and US Airlines (Annual Domestic Pax)\n",
    "3. US Airports (Annual Int'l Pax) and US Airlines (Annual Int'l Pax)\n",
    "4. Foreign Airports (Annual Int'l Pax) and Foreign Airlines (Annual Int'l Pax)\n",
    "5. Foreign Airports (Annual Int'l Pax) - West Coast and East Coast\n",
    "6. Foreign Market (Annual Int'l Pax) - Overall, West Coast, East Coast\n",
    "7. US Airports Domestic Connectivity and Int'l Connectivity (# Airports)\n",
    "8. Foreign Airports Int'l Connectivity (# Airports)\n",
    "9. City Pairs (Domestic & Int'l)"
   ]
  },
  {
   "cell_type": "markdown",
   "metadata": {},
   "source": [
    "### Improvements\n",
    "\n",
    "#### Feedback #1\n",
    "My initial graphs are all filled with data and lines. \n",
    "![Too much info!!](https://user-images.githubusercontent.com/14093302/34650996-f9f27c14-f404-11e7-9292-a4d8b17e733a.PNG \"Too much info!!\")\n",
    "\n",
    "After being told that the graphs is too crammed, I remove most of the data and only keep the top airports in terms of passengers which will form the main storyline for this project.\n",
    "\n",
    "#### Feedback #2\n",
    "\n",
    "Each city pair is duplicated in opposite way. For example, the line for LHR-JFK is overlapped by JFK-LHR.\n",
    "![Duplicated city pairs](https://user-images.githubusercontent.com/14093302/34650997-fc1a584a-f404-11e7-9a77-db0eebd2623c.PNG \"Duplicated City Pairs!\")\n",
    "\n",
    "The duplication is because the data is organized such that the origin and destination is in a row and then it was duplicated to account for both way passenger count. After filtering out city pair with low passenger volume, I carefully remove the duplicated city pairs for both graphs.\n",
    "\n",
    "#### Feedback #3\n",
    "The labels for some of my graphs are entangled such that they overalap and obstruct each other.\n",
    "![Labels too messy!!](https://user-images.githubusercontent.com/14093302/34650999-feaa0ede-f404-11e7-9900-c928e165a83f.PNG \"Lables too messy!!\")\n",
    "\n",
    "Whenever allowed, I will try to label each line. However, when the labels overlap I will remove them and only label to top few since most of the storyline is centered on them. \n",
    "\n",
    "I learn that it is better to convey a more limited range of data more effectively than to squeenzed all info into a graph to the extend it overwhelmes the audience."
   ]
  },
  {
   "cell_type": "markdown",
   "metadata": {},
   "source": [
    "## Feedback"
   ]
  },
  {
   "cell_type": "markdown",
   "metadata": {},
   "source": [
    "### Feedback 1\n",
    "\n",
    "There are just too much info on each graph and it is hard to focus on the data. Perhaps you should only pick the top 10 highest or highlight a specific airport or airline that you wish to talk about?"
   ]
  },
  {
   "cell_type": "markdown",
   "metadata": {},
   "source": [
    "### Feedback 2\n",
    "\n",
    "Do you notice that in the city pair graphs, there seems to be duplicated line trailing below as it there are pairs of data? For example, the city pair with the highest amount of passengers is New York, NY to London, UK. Just pick the first one of each pair and hide the others."
   ]
  },
  {
   "cell_type": "markdown",
   "metadata": {},
   "source": [
    "### Feedback 3"
   ]
  },
  {
   "cell_type": "markdown",
   "metadata": {},
   "source": [
    "I feel overwhelemed by your graphs are there are just too many line without clear focus? If you just want to show the ranking of the airport in terms of passengers, why not use horizontal bar charts? Unless it is to show the trend overtime? But again, there isn't a clear focus on your graph and it seems you just show whatever you have. At the same time, not all lines need to be labelled."
   ]
  },
  {
   "cell_type": "markdown",
   "metadata": {},
   "source": [
    "### Feedback 4"
   ]
  },
  {
   "cell_type": "markdown",
   "metadata": {},
   "source": [
    "I highly recommend using color-blind friendly colors. The following chart shows some of the indistinguishable colors for people with this disorder.\n",
    "\n",
    "You can find the colorblind palette in the color legends by going to edit colors then in the opened window by clicking on the dropbox; you can see a colorblind option."
   ]
  },
  {
   "cell_type": "markdown",
   "metadata": {},
   "source": [
    "## Resources"
   ]
  },
  {
   "cell_type": "markdown",
   "metadata": {},
   "source": [
    "https://www.transtats.bts.gov/DL_SelectFields.asp?Table_ID=293"
   ]
  }
 ],
 "metadata": {
  "kernelspec": {
   "display_name": "Python 3",
   "language": "python",
   "name": "python3"
  },
  "language_info": {
   "codemirror_mode": {
    "name": "ipython",
    "version": 3
   },
   "file_extension": ".py",
   "mimetype": "text/x-python",
   "name": "python",
   "nbconvert_exporter": "python",
   "pygments_lexer": "ipython3",
   "version": "3.6.5"
  }
 },
 "nbformat": 4,
 "nbformat_minor": 2
}
